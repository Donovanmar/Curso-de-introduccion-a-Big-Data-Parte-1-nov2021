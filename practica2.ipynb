{
  "nbformat": 4,
  "nbformat_minor": 0,
  "metadata": {
    "colab": {
      "name": "practica2.ipynb",
      "provenance": [],
      "collapsed_sections": [],
      "authorship_tag": "ABX9TyNtKyE8SbVGe20dodu0TMTB",
      "include_colab_link": true
    },
    "kernelspec": {
      "name": "python3",
      "display_name": "Python 3"
    },
    "language_info": {
      "name": "python"
    }
  },
  "cells": [
    {
      "cell_type": "markdown",
      "metadata": {
        "id": "view-in-github",
        "colab_type": "text"
      },
      "source": [
        "<a href=\"https://colab.research.google.com/github/Donovanmar/Curso-de-introduccion-a-Big-Data-Parte-1-nov2021/blob/main/practica2.ipynb\" target=\"_parent\"><img src=\"https://colab.research.google.com/assets/colab-badge.svg\" alt=\"Open In Colab\"/></a>"
      ]
    },
    {
      "cell_type": "code",
      "metadata": {
        "id": "flIdG-aTbmv-"
      },
      "source": [
        "!help"
      ],
      "execution_count": null,
      "outputs": []
    },
    {
      "cell_type": "code",
      "metadata": {
        "id": "V0CkdEcnb2-G"
      },
      "source": [
        "man find"
      ],
      "execution_count": 2,
      "outputs": []
    },
    {
      "cell_type": "code",
      "metadata": {
        "id": "Y1_nMqnxcBBt"
      },
      "source": [
        "!find / -name '*.ipynb'"
      ],
      "execution_count": null,
      "outputs": []
    },
    {
      "cell_type": "code",
      "metadata": {
        "id": "YP9iF50DcSFp"
      },
      "source": [
        "# comentario1"
      ],
      "execution_count": 4,
      "outputs": []
    },
    {
      "cell_type": "code",
      "metadata": {
        "colab": {
          "base_uri": "https://localhost:8080/"
        },
        "id": "yAHHI-90cYzy",
        "outputId": "dcd49010-d107-4ed2-cba7-202616d9a890"
      },
      "source": [
        "\"\"\"\n",
        "lectura de variable por teclado\n",
        "y conversion de tipo numerico a operar\n",
        "\n",
        "\"\"\"\n",
        "num = input(\"Dame un número \")\n",
        "print(\"Tu número es\", num)\n",
        "print(\"Tu número por 5 veces es:\", num*5)\n",
        "\"\"\"\n",
        " lo convertimos a entero\n",
        "\"\"\"\n",
        "num = int(num)\n",
        "print(\"Tu número multiplicado por 5 es\", num*5)\n"
      ],
      "execution_count": 8,
      "outputs": [
        {
          "output_type": "stream",
          "name": "stdout",
          "text": [
            "Dame un número 5\n",
            "Tu número es 5\n",
            "Tu número por 5 veces es: 55555\n",
            "Tu número multiplicado por 5 es 25\n"
          ]
        }
      ]
    },
    {
      "cell_type": "code",
      "metadata": {
        "colab": {
          "base_uri": "https://localhost:8080/"
        },
        "id": "wJ9Lj_JVdgs_",
        "outputId": "fc442d8e-4f75-42a9-f2b1-c77919e48352"
      },
      "source": [
        "type (num) #Para pedir el tipo de variable de 'num'"
      ],
      "execution_count": 9,
      "outputs": [
        {
          "output_type": "execute_result",
          "data": {
            "text/plain": [
              "int"
            ]
          },
          "metadata": {},
          "execution_count": 9
        }
      ]
    },
    {
      "cell_type": "code",
      "metadata": {
        "colab": {
          "base_uri": "https://localhost:8080/"
        },
        "id": "t3_L3d-MdpNq",
        "outputId": "f92b9695-1ff4-45e5-8338-1a1e36c796e6"
      },
      "source": [
        "num = 10//3\n",
        "type (num)\n",
        "print (num)"
      ],
      "execution_count": 10,
      "outputs": [
        {
          "output_type": "stream",
          "name": "stdout",
          "text": [
            "3\n"
          ]
        }
      ]
    },
    {
      "cell_type": "code",
      "metadata": {
        "colab": {
          "base_uri": "https://localhost:8080/"
        },
        "id": "BsDZfjyvd2bi",
        "outputId": "ac07bb23-03af-4c33-c7cc-e1935534c5a5"
      },
      "source": [
        "num = 10/3\n",
        "print(num)\n",
        "type (num)"
      ],
      "execution_count": 11,
      "outputs": [
        {
          "output_type": "stream",
          "name": "stdout",
          "text": [
            "3.3333333333333335\n"
          ]
        },
        {
          "output_type": "execute_result",
          "data": {
            "text/plain": [
              "float"
            ]
          },
          "metadata": {},
          "execution_count": 11
        }
      ]
    },
    {
      "cell_type": "code",
      "metadata": {
        "colab": {
          "base_uri": "https://localhost:8080/"
        },
        "id": "IpKpK_3ld-rl",
        "outputId": "969ca0b1-f874-42dc-da96-3be1d17538f4"
      },
      "source": [
        "num = 10%3\n",
        "print (num)"
      ],
      "execution_count": 12,
      "outputs": [
        {
          "output_type": "stream",
          "name": "stdout",
          "text": [
            "1\n"
          ]
        }
      ]
    },
    {
      "cell_type": "code",
      "metadata": {
        "colab": {
          "base_uri": "https://localhost:8080/"
        },
        "id": "85VwxDaIePgE",
        "outputId": "b86d9929-748e-4b9f-9635-d87d76876e67"
      },
      "source": [
        "nombre = \"Donovan\"\n",
        "print(nombre)\n",
        "type(nombre) #Tipo String"
      ],
      "execution_count": 14,
      "outputs": [
        {
          "output_type": "stream",
          "name": "stdout",
          "text": [
            "Donovan\n"
          ]
        },
        {
          "output_type": "execute_result",
          "data": {
            "text/plain": [
              "str"
            ]
          },
          "metadata": {},
          "execution_count": 14
        }
      ]
    },
    {
      "cell_type": "code",
      "metadata": {
        "colab": {
          "base_uri": "https://localhost:8080/"
        },
        "id": "g_AOnfuAeYA8",
        "outputId": "ed3cdccd-3a54-4227-ab46-8dec21e24613"
      },
      "source": [
        "num = int(input(\"Dame un número: \"))\n",
        "mayor = (10>num)\n",
        "print(mayor)\n",
        "type(mayor)"
      ],
      "execution_count": 16,
      "outputs": [
        {
          "output_type": "stream",
          "name": "stdout",
          "text": [
            "Dame un número: 11\n",
            "False\n"
          ]
        },
        {
          "output_type": "execute_result",
          "data": {
            "text/plain": [
              "bool"
            ]
          },
          "metadata": {},
          "execution_count": 16
        }
      ]
    },
    {
      "cell_type": "code",
      "metadata": {
        "colab": {
          "base_uri": "https://localhost:8080/"
        },
        "id": "57rL-oM3etB6",
        "outputId": "6c46a979-b592-457d-ed1b-ec420744112b"
      },
      "source": [
        "if (num == 5):\n",
        "  print(\"Tu número es 5\")\n",
        "else:\n",
        "  print (\"Tu número es diferente de 5\")"
      ],
      "execution_count": 17,
      "outputs": [
        {
          "output_type": "stream",
          "name": "stdout",
          "text": [
            "Tu número es diferente de 5\n"
          ]
        }
      ]
    },
    {
      "cell_type": "code",
      "metadata": {
        "colab": {
          "base_uri": "https://localhost:8080/"
        },
        "id": "KLi8zLtzfDJc",
        "outputId": "3f78a184-63e0-454c-995a-7ca33ef3c6dc"
      },
      "source": [
        "if (num != 5):\n",
        "  print (\"Tu número es diferente de 5\")\n",
        "else:\n",
        "  print (\"Tu número es 5\")"
      ],
      "execution_count": 18,
      "outputs": [
        {
          "output_type": "stream",
          "name": "stdout",
          "text": [
            "Tu número es diferente de 5\n"
          ]
        }
      ]
    },
    {
      "cell_type": "code",
      "metadata": {
        "colab": {
          "base_uri": "https://localhost:8080/"
        },
        "id": "y8aML7uOfSCK",
        "outputId": "8c8080ea-3386-4c52-aad3-983df6b6c50f"
      },
      "source": [
        "num = int(input(\"Dame un número: \"))\n",
        "if (num >=10 and num<=15):\n",
        "  print (\"Número entre 10 y 15\")\n",
        "elif (num >15): #Si no si = elif\n",
        "  print (\"Número mayor que 15\")\n",
        "else:\n",
        "  print (\"Número menor que 15\")"
      ],
      "execution_count": 22,
      "outputs": [
        {
          "output_type": "stream",
          "name": "stdout",
          "text": [
            "Dame un número: 16\n",
            "Número mayor que 15\n"
          ]
        }
      ]
    },
    {
      "cell_type": "code",
      "metadata": {
        "colab": {
          "base_uri": "https://localhost:8080/"
        },
        "id": "4b-QlZQafyAm",
        "outputId": "2fb941e7-a84d-4c66-8241-4bab8e36cf3c"
      },
      "source": [
        "lista = range (6) #Lista desde el 0 al 5\n",
        "for i in lista: #Para diferentes vueltas con los elemntos de la lista\n",
        "  print(i)"
      ],
      "execution_count": 23,
      "outputs": [
        {
          "output_type": "stream",
          "name": "stdout",
          "text": [
            "0\n",
            "1\n",
            "2\n",
            "3\n",
            "4\n",
            "5\n"
          ]
        }
      ]
    },
    {
      "cell_type": "code",
      "metadata": {
        "colab": {
          "base_uri": "https://localhost:8080/"
        },
        "id": "KhMKfuk_gHva",
        "outputId": "73c9fc60-054a-4d8e-9c90-631ccbaefa30"
      },
      "source": [
        "lista = range (3,6)\n",
        "print(list(lista)) #lista o array en horizontal\n",
        "print(\"La lista tiene\", len(lista), \"elementos\")"
      ],
      "execution_count": 24,
      "outputs": [
        {
          "output_type": "stream",
          "name": "stdout",
          "text": [
            "[3, 4, 5]\n",
            "La lista tiene 3 elementos\n"
          ]
        }
      ]
    },
    {
      "cell_type": "code",
      "metadata": {
        "colab": {
          "base_uri": "https://localhost:8080/"
        },
        "id": "jhavcdiagfBE",
        "outputId": "f4a4f1a8-e55f-49a9-9884-9bb10faf174e"
      },
      "source": [
        "lista = range (3,20,2) #El número 2 es para ir de 2 en 2, si fuera 3 iría de 3 en 3\n",
        "list(lista)"
      ],
      "execution_count": 25,
      "outputs": [
        {
          "output_type": "execute_result",
          "data": {
            "text/plain": [
              "[3, 5, 7, 9, 11, 13, 15, 17, 19]"
            ]
          },
          "metadata": {},
          "execution_count": 25
        }
      ]
    },
    {
      "cell_type": "code",
      "metadata": {
        "colab": {
          "base_uri": "https://localhost:8080/"
        },
        "id": "03CrqIvwg2LW",
        "outputId": "d47e508c-f863-456f-af76-0511a708492f"
      },
      "source": [
        "nombre = \"Donovan\"\n",
        "n_mayus = nombre.upper() #Pasar a mayúsculas\n",
        "print(n_mayus)\n",
        "print(nombre[2]) #Letra posición 2 desde el 0\n",
        "len(nombre) #length = longitud del string"
      ],
      "execution_count": 26,
      "outputs": [
        {
          "output_type": "stream",
          "name": "stdout",
          "text": [
            "DONOVAN\n",
            "n\n"
          ]
        },
        {
          "output_type": "execute_result",
          "data": {
            "text/plain": [
              "7"
            ]
          },
          "metadata": {},
          "execution_count": 26
        }
      ]
    },
    {
      "cell_type": "code",
      "metadata": {
        "colab": {
          "base_uri": "https://localhost:8080/"
        },
        "id": "znHB-dF1hXKy",
        "outputId": "f96f8a63-c6d4-4417-becb-669235e31299"
      },
      "source": [
        "nombres = [\"María\",\"Pedro\",\"Juan\",\"Carmen\"]\n",
        "print(nombres[2])\n",
        "print(type(nombres))\n",
        "del nombres[2] #Para eliminar elemento de la lista\n",
        "print(nombres)\n",
        "nombres.insert(3,\"Jose\")\n",
        "print(nombres)\n",
        "print(\"Para ver la posición donde se encuentra un valor usamos index, Carmen se encuentra en la posición: \",nombres.index(\"Carmen\"))\n",
        "print(nombres)\n",
        "print(\"Para ver los elementos de la posición 1 a la 2, pongo un 3 al final!\", nombres[1:3])\n",
        "nombres.append(\"Susana\")\n",
        "print(nombres)\n",
        "print(\"Para ver los elementos de 2 en 2: \", nombres [::2])\n",
        "print(\"Para ver los elementos en orden invertido uso -1: \", nombres[::-1])\n",
        "\n",
        "for i in nombres:\n",
        "  print(i)"
      ],
      "execution_count": 27,
      "outputs": [
        {
          "output_type": "stream",
          "name": "stdout",
          "text": [
            "Juan\n",
            "<class 'list'>\n",
            "['María', 'Pedro', 'Carmen']\n",
            "['María', 'Pedro', 'Carmen', 'Jose']\n",
            "Para ver la posición donde se encuentra un valor usamos index, Carmen se encuentra en la posición:  2\n",
            "['María', 'Pedro', 'Carmen', 'Jose']\n",
            "Para ver los elementos de la posición 1 a la 2, pongo un 3 al final! ['Pedro', 'Carmen']\n",
            "['María', 'Pedro', 'Carmen', 'Jose', 'Susana']\n",
            "Para ver los elementos de 2 en 2:  ['María', 'Carmen', 'Susana']\n",
            "Para ver los elementos en orden invertido uso -1:  ['Susana', 'Jose', 'Carmen', 'Pedro', 'María']\n",
            "María\n",
            "Pedro\n",
            "Carmen\n",
            "Jose\n",
            "Susana\n"
          ]
        }
      ]
    }
  ]
}