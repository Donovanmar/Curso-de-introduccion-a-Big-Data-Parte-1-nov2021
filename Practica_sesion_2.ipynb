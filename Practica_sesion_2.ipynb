{
  "nbformat": 4,
  "nbformat_minor": 0,
  "metadata": {
    "colab": {
      "name": "Practica_sesion_2.ipynb",
      "provenance": [],
      "authorship_tag": "ABX9TyMG00MPIlE0IrnBBU5VeyU/",
      "include_colab_link": true
    },
    "kernelspec": {
      "name": "python3",
      "display_name": "Python 3"
    },
    "language_info": {
      "name": "python"
    }
  },
  "cells": [
    {
      "cell_type": "markdown",
      "metadata": {
        "id": "view-in-github",
        "colab_type": "text"
      },
      "source": [
        "<a href=\"https://colab.research.google.com/github/montsemir/Curso-de-introduccion-a-Big-Data-Parte-1-nov2021/blob/main/Practica_sesion_2.ipynb\" target=\"_parent\"><img src=\"https://colab.research.google.com/assets/colab-badge.svg\" alt=\"Open In Colab\"/></a>"
      ]
    },
    {
      "cell_type": "markdown",
      "metadata": {
        "id": "czkhFH5nJcqx"
      },
      "source": [
        "Esto es una celda de texto"
      ]
    },
    {
      "cell_type": "code",
      "metadata": {
        "colab": {
          "base_uri": "https://localhost:8080/"
        },
        "id": "t7UeTGXQJih3",
        "outputId": "da55c856-73ef-4d8e-b4c8-24b70f51fee1"
      },
      "source": [
        "print(\"¡Hola mundo!\")"
      ],
      "execution_count": 4,
      "outputs": [
        {
          "output_type": "stream",
          "name": "stdout",
          "text": [
            "¡Hola mundo!\n"
          ]
        }
      ]
    },
    {
      "cell_type": "code",
      "metadata": {
        "colab": {
          "base_uri": "https://localhost:8080/"
        },
        "id": "H9vn6AupKEzn",
        "outputId": "c446ddd1-93ad-45a7-b504-d9c86c3980a1"
      },
      "source": [
        "2 + 2\n",
        "# Esto es un comentario en una celda de codigo"
      ],
      "execution_count": 6,
      "outputs": [
        {
          "output_type": "execute_result",
          "data": {
            "text/plain": [
              "4"
            ]
          },
          "metadata": {},
          "execution_count": 6
        }
      ]
    },
    {
      "cell_type": "code",
      "metadata": {
        "id": "PTa9r9elK4xV"
      },
      "source": [
        "a = 35 - 8"
      ],
      "execution_count": null,
      "outputs": []
    },
    {
      "cell_type": "code",
      "metadata": {
        "colab": {
          "base_uri": "https://localhost:8080/"
        },
        "id": "57RBtzB7K9uJ",
        "outputId": "f5136431-1d28-4fe2-b355-d90cb7919df6"
      },
      "source": [
        "a"
      ],
      "execution_count": 10,
      "outputs": [
        {
          "output_type": "execute_result",
          "data": {
            "text/plain": [
              "27"
            ]
          },
          "metadata": {},
          "execution_count": 10
        }
      ]
    },
    {
      "cell_type": "code",
      "metadata": {
        "colab": {
          "base_uri": "https://localhost:8080/"
        },
        "id": "PIj3Fb3DLBYg",
        "outputId": "906b4aeb-0607-492c-d32b-a5398f8364c8"
      },
      "source": [
        "help(len)"
      ],
      "execution_count": 11,
      "outputs": [
        {
          "output_type": "stream",
          "name": "stdout",
          "text": [
            "Help on built-in function len in module builtins:\n",
            "\n",
            "len(obj, /)\n",
            "    Return the number of items in a container.\n",
            "\n"
          ]
        }
      ]
    },
    {
      "cell_type": "code",
      "metadata": {
        "id": "qWDYEvq9LGl2"
      },
      "source": [
        "len?"
      ],
      "execution_count": 12,
      "outputs": []
    }
  ]
}